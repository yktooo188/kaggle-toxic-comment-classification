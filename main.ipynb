{
  "nbformat": 4,
  "nbformat_minor": 0,
  "metadata": {
    "colab": {
      "provenance": [],
      "collapsed_sections": [],
      "mount_file_id": "1F8KqArOmEQKpwuFCQQmOTrOy6NE8Exne",
      "authorship_tag": "ABX9TyP0plJKBpkUvknq8RGPjkq7",
      "include_colab_link": true
    },
    "kernelspec": {
      "name": "python3",
      "display_name": "Python 3"
    },
    "language_info": {
      "name": "python"
    },
    "accelerator": "GPU",
    "gpuClass": "standard"
  },
  "cells": [
    {
      "cell_type": "markdown",
      "metadata": {
        "id": "view-in-github",
        "colab_type": "text"
      },
      "source": [
        "<a href=\"https://colab.research.google.com/github/yktooo188/kaggle-toxic-comment-classification/blob/main/main.ipynb\" target=\"_parent\"><img src=\"https://colab.research.google.com/assets/colab-badge.svg\" alt=\"Open In Colab\"/></a>"
      ]
    },
    {
      "cell_type": "code",
      "execution_count": 1,
      "metadata": {
        "colab": {
          "base_uri": "https://localhost:8080/"
        },
        "id": "UDqPPg6xgnjy",
        "outputId": "e52650ca-d9e5-4c6f-b7c2-ca03522ca442"
      },
      "outputs": [
        {
          "output_type": "stream",
          "name": "stdout",
          "text": [
            "Looking in indexes: https://pypi.org/simple, https://us-python.pkg.dev/colab-wheels/public/simple/\n",
            "Requirement already satisfied: kaggle in /usr/local/lib/python3.7/dist-packages (1.5.12)\n",
            "Requirement already satisfied: six>=1.10 in /usr/local/lib/python3.7/dist-packages (from kaggle) (1.15.0)\n",
            "Requirement already satisfied: python-slugify in /usr/local/lib/python3.7/dist-packages (from kaggle) (6.1.2)\n",
            "Requirement already satisfied: requests in /usr/local/lib/python3.7/dist-packages (from kaggle) (2.23.0)\n",
            "Requirement already satisfied: urllib3 in /usr/local/lib/python3.7/dist-packages (from kaggle) (1.24.3)\n",
            "Requirement already satisfied: tqdm in /usr/local/lib/python3.7/dist-packages (from kaggle) (4.64.0)\n",
            "Requirement already satisfied: python-dateutil in /usr/local/lib/python3.7/dist-packages (from kaggle) (2.8.2)\n",
            "Requirement already satisfied: certifi in /usr/local/lib/python3.7/dist-packages (from kaggle) (2022.6.15)\n",
            "Requirement already satisfied: text-unidecode>=1.3 in /usr/local/lib/python3.7/dist-packages (from python-slugify->kaggle) (1.3)\n",
            "Requirement already satisfied: idna<3,>=2.5 in /usr/local/lib/python3.7/dist-packages (from requests->kaggle) (2.10)\n",
            "Requirement already satisfied: chardet<4,>=3.0.2 in /usr/local/lib/python3.7/dist-packages (from requests->kaggle) (3.0.4)\n",
            "Drive already mounted at /content/drive; to attempt to forcibly remount, call drive.mount(\"/content/drive\", force_remount=True).\n"
          ]
        }
      ],
      "source": [
        "def setup_environment(isDataExist: bool):\n",
        "  !pip install kaggle\n",
        "\n",
        "  from google.colab import drive\n",
        "  drive.mount('/content/drive')\n",
        "\n",
        "  import os\n",
        "  import json\n",
        "  f = open(\"/content/drive/MyDrive/kaggle/token/kaggle.json\", 'r')\n",
        "  json_data = json.load(f) \n",
        "  os.environ['KAGGLE_USERNAME'] = json_data['username']\n",
        "  os.environ['KAGGLE_KEY'] = json_data['key']\n",
        "\n",
        "  if(isDataExist is False):\n",
        "    !kaggle competitions download -c jigsaw-toxic-comment-classification-challenge -p /content/drive/MyDrive/kaggle/toxic_comment_classification/dataset\n",
        "\n",
        "    !unzip -o /content/drive/MyDrive/kaggle/toxic_comment_classification/dataset/jigsaw-toxic-comment-classification-challenge.zip -d /content/drive/MyDrive/kaggle/toxic_comment_classification/dataset\n",
        "    !rm /content/drive/MyDrive/kaggle/toxic_comment_classification/dataset/jigsaw-toxic-comment-classification-challenge.zip\n",
        "        \n",
        "    !unzip -o /content/drive/MyDrive/kaggle/toxic_comment_classification/dataset/sample_submission.csv.zip -d /content/drive/MyDrive/kaggle/toxic_comment_classification/dataset\n",
        "    !unzip -o /content/drive/MyDrive/kaggle/toxic_comment_classification/dataset/test.csv.zip -d /content/drive/MyDrive/kaggle/toxic_comment_classification/dataset   \n",
        "    !unzip -o /content/drive/MyDrive/kaggle/toxic_comment_classification/dataset/train.csv.zip -d /content/drive/MyDrive/kaggle/toxic_comment_classification/dataset   \n",
        "    !unzip -o /content/drive/MyDrive/kaggle/toxic_comment_classification/dataset/test_labels.csv.zip -d /content/drive/MyDrive/kaggle/toxic_comment_classification/dataset   \n",
        "    !rm /content/drive/MyDrive/kaggle/toxic_comment_classification/dataset/*.zip\n",
        "\n",
        "# setup_environment(isDataExist=False)\n",
        "setup_environment(isDataExist=True)"
      ]
    },
    {
      "cell_type": "code",
      "source": [
        "# The following article is referenced in this notebook.\n",
        "# https://www.kaggle.com/code/sbongo/for-beginners-tackling-toxic-using-keras/notebook\n",
        "\n",
        "import sys, os, re, csv, codecs, numpy as np, pandas as pd\n",
        "import matplotlib.pyplot as plt\n",
        "%matplotlib inline\n",
        "from keras.preprocessing.text import Tokenizer\n",
        "from keras.preprocessing.sequence import pad_sequences\n",
        "from keras.layers import Dense, Input, LSTM, Embedding, Dropout, Activation\n",
        "from keras.layers import Bidirectional, GlobalMaxPool1D\n",
        "from keras.models import Model\n",
        "from keras import initializers, regularizers, constraints, optimizers, layers"
      ],
      "metadata": {
        "id": "ihScCexonDJk"
      },
      "execution_count": 2,
      "outputs": []
    },
    {
      "cell_type": "code",
      "source": [
        "train = pd.read_csv('/content/drive/MyDrive/kaggle/toxic_comment_classification/dataset/train.csv')\n",
        "test = pd.read_csv('/content/drive/MyDrive/kaggle/toxic_comment_classification/dataset/test.csv')"
      ],
      "metadata": {
        "id": "O1RQ2xsxnSJd"
      },
      "execution_count": 3,
      "outputs": []
    },
    {
      "cell_type": "code",
      "source": [
        "train.head()"
      ],
      "metadata": {
        "colab": {
          "base_uri": "https://localhost:8080/",
          "height": 206
        },
        "id": "M9u_EctcnbIw",
        "outputId": "4b3154bb-7dd9-4d21-cc59-3e57453028cd"
      },
      "execution_count": 6,
      "outputs": [
        {
          "output_type": "execute_result",
          "data": {
            "text/plain": [
              "                 id                                       comment_text  toxic  \\\n",
              "0  0000997932d777bf  Explanation\\nWhy the edits made under my usern...      0   \n",
              "1  000103f0d9cfb60f  D'aww! He matches this background colour I'm s...      0   \n",
              "2  000113f07ec002fd  Hey man, I'm really not trying to edit war. It...      0   \n",
              "3  0001b41b1c6bb37e  \"\\nMore\\nI can't make any real suggestions on ...      0   \n",
              "4  0001d958c54c6e35  You, sir, are my hero. Any chance you remember...      0   \n",
              "\n",
              "   severe_toxic  obscene  threat  insult  identity_hate  \n",
              "0             0        0       0       0              0  \n",
              "1             0        0       0       0              0  \n",
              "2             0        0       0       0              0  \n",
              "3             0        0       0       0              0  \n",
              "4             0        0       0       0              0  "
            ],
            "text/html": [
              "\n",
              "  <div id=\"df-7b544d95-b011-4516-a51b-ab3c8fa9febc\">\n",
              "    <div class=\"colab-df-container\">\n",
              "      <div>\n",
              "<style scoped>\n",
              "    .dataframe tbody tr th:only-of-type {\n",
              "        vertical-align: middle;\n",
              "    }\n",
              "\n",
              "    .dataframe tbody tr th {\n",
              "        vertical-align: top;\n",
              "    }\n",
              "\n",
              "    .dataframe thead th {\n",
              "        text-align: right;\n",
              "    }\n",
              "</style>\n",
              "<table border=\"1\" class=\"dataframe\">\n",
              "  <thead>\n",
              "    <tr style=\"text-align: right;\">\n",
              "      <th></th>\n",
              "      <th>id</th>\n",
              "      <th>comment_text</th>\n",
              "      <th>toxic</th>\n",
              "      <th>severe_toxic</th>\n",
              "      <th>obscene</th>\n",
              "      <th>threat</th>\n",
              "      <th>insult</th>\n",
              "      <th>identity_hate</th>\n",
              "    </tr>\n",
              "  </thead>\n",
              "  <tbody>\n",
              "    <tr>\n",
              "      <th>0</th>\n",
              "      <td>0000997932d777bf</td>\n",
              "      <td>Explanation\\nWhy the edits made under my usern...</td>\n",
              "      <td>0</td>\n",
              "      <td>0</td>\n",
              "      <td>0</td>\n",
              "      <td>0</td>\n",
              "      <td>0</td>\n",
              "      <td>0</td>\n",
              "    </tr>\n",
              "    <tr>\n",
              "      <th>1</th>\n",
              "      <td>000103f0d9cfb60f</td>\n",
              "      <td>D'aww! He matches this background colour I'm s...</td>\n",
              "      <td>0</td>\n",
              "      <td>0</td>\n",
              "      <td>0</td>\n",
              "      <td>0</td>\n",
              "      <td>0</td>\n",
              "      <td>0</td>\n",
              "    </tr>\n",
              "    <tr>\n",
              "      <th>2</th>\n",
              "      <td>000113f07ec002fd</td>\n",
              "      <td>Hey man, I'm really not trying to edit war. It...</td>\n",
              "      <td>0</td>\n",
              "      <td>0</td>\n",
              "      <td>0</td>\n",
              "      <td>0</td>\n",
              "      <td>0</td>\n",
              "      <td>0</td>\n",
              "    </tr>\n",
              "    <tr>\n",
              "      <th>3</th>\n",
              "      <td>0001b41b1c6bb37e</td>\n",
              "      <td>\"\\nMore\\nI can't make any real suggestions on ...</td>\n",
              "      <td>0</td>\n",
              "      <td>0</td>\n",
              "      <td>0</td>\n",
              "      <td>0</td>\n",
              "      <td>0</td>\n",
              "      <td>0</td>\n",
              "    </tr>\n",
              "    <tr>\n",
              "      <th>4</th>\n",
              "      <td>0001d958c54c6e35</td>\n",
              "      <td>You, sir, are my hero. Any chance you remember...</td>\n",
              "      <td>0</td>\n",
              "      <td>0</td>\n",
              "      <td>0</td>\n",
              "      <td>0</td>\n",
              "      <td>0</td>\n",
              "      <td>0</td>\n",
              "    </tr>\n",
              "  </tbody>\n",
              "</table>\n",
              "</div>\n",
              "      <button class=\"colab-df-convert\" onclick=\"convertToInteractive('df-7b544d95-b011-4516-a51b-ab3c8fa9febc')\"\n",
              "              title=\"Convert this dataframe to an interactive table.\"\n",
              "              style=\"display:none;\">\n",
              "        \n",
              "  <svg xmlns=\"http://www.w3.org/2000/svg\" height=\"24px\"viewBox=\"0 0 24 24\"\n",
              "       width=\"24px\">\n",
              "    <path d=\"M0 0h24v24H0V0z\" fill=\"none\"/>\n",
              "    <path d=\"M18.56 5.44l.94 2.06.94-2.06 2.06-.94-2.06-.94-.94-2.06-.94 2.06-2.06.94zm-11 1L8.5 8.5l.94-2.06 2.06-.94-2.06-.94L8.5 2.5l-.94 2.06-2.06.94zm10 10l.94 2.06.94-2.06 2.06-.94-2.06-.94-.94-2.06-.94 2.06-2.06.94z\"/><path d=\"M17.41 7.96l-1.37-1.37c-.4-.4-.92-.59-1.43-.59-.52 0-1.04.2-1.43.59L10.3 9.45l-7.72 7.72c-.78.78-.78 2.05 0 2.83L4 21.41c.39.39.9.59 1.41.59.51 0 1.02-.2 1.41-.59l7.78-7.78 2.81-2.81c.8-.78.8-2.07 0-2.86zM5.41 20L4 18.59l7.72-7.72 1.47 1.35L5.41 20z\"/>\n",
              "  </svg>\n",
              "      </button>\n",
              "      \n",
              "  <style>\n",
              "    .colab-df-container {\n",
              "      display:flex;\n",
              "      flex-wrap:wrap;\n",
              "      gap: 12px;\n",
              "    }\n",
              "\n",
              "    .colab-df-convert {\n",
              "      background-color: #E8F0FE;\n",
              "      border: none;\n",
              "      border-radius: 50%;\n",
              "      cursor: pointer;\n",
              "      display: none;\n",
              "      fill: #1967D2;\n",
              "      height: 32px;\n",
              "      padding: 0 0 0 0;\n",
              "      width: 32px;\n",
              "    }\n",
              "\n",
              "    .colab-df-convert:hover {\n",
              "      background-color: #E2EBFA;\n",
              "      box-shadow: 0px 1px 2px rgba(60, 64, 67, 0.3), 0px 1px 3px 1px rgba(60, 64, 67, 0.15);\n",
              "      fill: #174EA6;\n",
              "    }\n",
              "\n",
              "    [theme=dark] .colab-df-convert {\n",
              "      background-color: #3B4455;\n",
              "      fill: #D2E3FC;\n",
              "    }\n",
              "\n",
              "    [theme=dark] .colab-df-convert:hover {\n",
              "      background-color: #434B5C;\n",
              "      box-shadow: 0px 1px 3px 1px rgba(0, 0, 0, 0.15);\n",
              "      filter: drop-shadow(0px 1px 2px rgba(0, 0, 0, 0.3));\n",
              "      fill: #FFFFFF;\n",
              "    }\n",
              "  </style>\n",
              "\n",
              "      <script>\n",
              "        const buttonEl =\n",
              "          document.querySelector('#df-7b544d95-b011-4516-a51b-ab3c8fa9febc button.colab-df-convert');\n",
              "        buttonEl.style.display =\n",
              "          google.colab.kernel.accessAllowed ? 'block' : 'none';\n",
              "\n",
              "        async function convertToInteractive(key) {\n",
              "          const element = document.querySelector('#df-7b544d95-b011-4516-a51b-ab3c8fa9febc');\n",
              "          const dataTable =\n",
              "            await google.colab.kernel.invokeFunction('convertToInteractive',\n",
              "                                                     [key], {});\n",
              "          if (!dataTable) return;\n",
              "\n",
              "          const docLinkHtml = 'Like what you see? Visit the ' +\n",
              "            '<a target=\"_blank\" href=https://colab.research.google.com/notebooks/data_table.ipynb>data table notebook</a>'\n",
              "            + ' to learn more about interactive tables.';\n",
              "          element.innerHTML = '';\n",
              "          dataTable['output_type'] = 'display_data';\n",
              "          await google.colab.output.renderOutput(dataTable, element);\n",
              "          const docLink = document.createElement('div');\n",
              "          docLink.innerHTML = docLinkHtml;\n",
              "          element.appendChild(docLink);\n",
              "        }\n",
              "      </script>\n",
              "    </div>\n",
              "  </div>\n",
              "  "
            ]
          },
          "metadata": {},
          "execution_count": 6
        }
      ]
    },
    {
      "cell_type": "code",
      "source": [
        "train.isnull().any(),test.isnull().any()"
      ],
      "metadata": {
        "colab": {
          "base_uri": "https://localhost:8080/"
        },
        "id": "7q0AVwjtncOu",
        "outputId": "127a71bc-434b-40e5-a13d-fec81ab37b69"
      },
      "execution_count": 4,
      "outputs": [
        {
          "output_type": "execute_result",
          "data": {
            "text/plain": [
              "(id               False\n",
              " comment_text     False\n",
              " toxic            False\n",
              " severe_toxic     False\n",
              " obscene          False\n",
              " threat           False\n",
              " insult           False\n",
              " identity_hate    False\n",
              " dtype: bool, id              False\n",
              " comment_text    False\n",
              " dtype: bool)"
            ]
          },
          "metadata": {},
          "execution_count": 4
        }
      ]
    },
    {
      "cell_type": "code",
      "source": [
        "list_classes = [\"toxic\", \"severe_toxic\", \"obscene\", \"threat\", \"insult\", \"identity_hate\"]\n",
        "list_sentences_train = train[\"comment_text\"] # train text\n",
        "list_sentences_test = test[\"comment_text\"] # test text\n",
        "y = train[list_classes].values # scores\n",
        "\n",
        "display(y)\n",
        "display(list_sentences_train)"
      ],
      "metadata": {
        "colab": {
          "base_uri": "https://localhost:8080/",
          "height": 347
        },
        "id": "WGHKSQJGoS7w",
        "outputId": "9e4a2cd4-aa90-46d0-e0de-f0a0c2636a62"
      },
      "execution_count": 5,
      "outputs": [
        {
          "output_type": "display_data",
          "data": {
            "text/plain": [
              "array([[0, 0, 0, 0, 0, 0],\n",
              "       [0, 0, 0, 0, 0, 0],\n",
              "       [0, 0, 0, 0, 0, 0],\n",
              "       ...,\n",
              "       [0, 0, 0, 0, 0, 0],\n",
              "       [0, 0, 0, 0, 0, 0],\n",
              "       [0, 0, 0, 0, 0, 0]])"
            ]
          },
          "metadata": {}
        },
        {
          "output_type": "display_data",
          "data": {
            "text/plain": [
              "0         Explanation\\nWhy the edits made under my usern...\n",
              "1         D'aww! He matches this background colour I'm s...\n",
              "2         Hey man, I'm really not trying to edit war. It...\n",
              "3         \"\\nMore\\nI can't make any real suggestions on ...\n",
              "4         You, sir, are my hero. Any chance you remember...\n",
              "                                ...                        \n",
              "159566    \":::::And for the second time of asking, when ...\n",
              "159567    You should be ashamed of yourself \\n\\nThat is ...\n",
              "159568    Spitzer \\n\\nUmm, theres no actual article for ...\n",
              "159569    And it looks like it was actually you who put ...\n",
              "159570    \"\\nAnd ... I really don't think you understand...\n",
              "Name: comment_text, Length: 159571, dtype: object"
            ]
          },
          "metadata": {}
        }
      ]
    },
    {
      "cell_type": "code",
      "source": [
        "'''\n",
        "# tokenizer example\n",
        "sample_tokenizer = Tokenizer(num_words=30) # max number of words to learn\n",
        "sample_text = [\"Hello world, yeah!\", \"This is an apple, yeah!\"]\n",
        "sample_tokenizer.fit_on_texts(sample_text)\n",
        "\n",
        "# simple info\n",
        "print(sample_tokenizer.document_count) \n",
        "print(sample_tokenizer.word_counts)\n",
        "print(sample_tokenizer.word_index)\n",
        "\n",
        "# vector info\n",
        "display(sample_tokenizer.texts_to_matrix(sample_text, \"binary\")) # binary expression based on the word_index\n",
        "display(sample_tokenizer.texts_to_matrix(sample_text, \"count\"))  # count expression based on the word_index\n",
        "\n",
        "# fit\n",
        "# fit_on_texts produces the one-hot encoding for a text\n",
        "# https://stackoverflow.com/questions/69026891/what-is-keras-tokenizer-fit-on-texts-doing\n",
        "sample_tokenizer.fit_on_texts(list(sample_text)) \n",
        "sample_tokenizer_list = sample_tokenizer.texts_to_sequences(sample_text) # [[2, 3, 1], [4, 5, 6, 7, 1]]\n",
        "print(sample_tokenizer_list)\n",
        "'''"
      ],
      "metadata": {
        "colab": {
          "base_uri": "https://localhost:8080/",
          "height": 122
        },
        "id": "FrC7RVw7o58Y",
        "outputId": "0463f5fd-6874-4acc-e699-f47dc980540a"
      },
      "execution_count": 9,
      "outputs": [
        {
          "output_type": "execute_result",
          "data": {
            "text/plain": [
              "'\\n# tokenizer example\\nsample_tokenizer = Tokenizer(num_words=30) # max number of words to learn\\nsample_text = [\"Hello world, yeah!\", \"This is an apple, yeah!\"]\\nsample_tokenizer.fit_on_texts(sample_text)\\n\\n# simple info\\nprint(sample_tokenizer.document_count) \\nprint(sample_tokenizer.word_counts)\\nprint(sample_tokenizer.word_index)\\n\\n# vector info\\ndisplay(sample_tokenizer.texts_to_matrix(sample_text, \"binary\")) # binary expression based on the word_index\\ndisplay(sample_tokenizer.texts_to_matrix(sample_text, \"count\"))  # count expression based on the word_index\\n\\n# fit\\n# fit_on_texts produces the one-hot encoding for a text\\n# https://stackoverflow.com/questions/69026891/what-is-keras-tokenizer-fit-on-texts-doing\\nsample_tokenizer.fit_on_texts(list(sample_text)) \\nsample_tokenizer_list = sample_tokenizer.texts_to_sequences(sample_text) # [[2, 3, 1], [4, 5, 6, 7, 1]]\\nprint(sample_tokenizer_list)\\n'"
            ],
            "application/vnd.google.colaboratory.intrinsic+json": {
              "type": "string"
            }
          },
          "metadata": {},
          "execution_count": 9
        }
      ]
    },
    {
      "cell_type": "code",
      "source": [
        "max_features = 20000\n",
        "tokenizer = Tokenizer(num_words=max_features) # max number of words to learn\n",
        "tokenizer.fit_on_texts(list(list_sentences_train))\n",
        "list_tokenized_train = tokenizer.texts_to_sequences(list_sentences_train)\n",
        "list_tokenized_test = tokenizer.texts_to_sequences(list_sentences_test)"
      ],
      "metadata": {
        "id": "cuyceM15Soqs"
      },
      "execution_count": 6,
      "outputs": []
    },
    {
      "cell_type": "code",
      "source": [
        "print(list_tokenized_train[0])\n",
        "print(list_tokenized_train[1])\n",
        "print(list_tokenized_train[2])"
      ],
      "metadata": {
        "colab": {
          "base_uri": "https://localhost:8080/"
        },
        "id": "JCYfP_M4Sw1L",
        "outputId": "d7b32836-e4db-449d-d608-f7d369addfdb"
      },
      "execution_count": 18,
      "outputs": [
        {
          "output_type": "stream",
          "name": "stdout",
          "text": [
            "[688, 75, 1, 126, 130, 177, 29, 672, 4511, 12052, 1116, 86, 331, 51, 2278, 11448, 50, 6864, 15, 60, 2756, 148, 7, 2937, 34, 117, 1221, 15190, 2825, 4, 45, 59, 244, 1, 365, 31, 1, 38, 27, 143, 73, 3462, 89, 3085, 4583, 2273, 985]\n",
            "[52, 2635, 13, 555, 3809, 73, 4556, 2706, 21, 94, 38, 803, 2679, 992, 589, 8377, 182]\n",
            "[412, 437, 73, 134, 14, 249, 2, 71, 314, 78, 50, 9, 13, 626, 8, 2284, 492, 502, 102, 4, 611, 2, 35, 325, 126, 363, 3, 29, 38, 27, 52, 208, 2, 434, 57, 36, 1, 2394, 93, 1, 737, 468]\n"
          ]
        }
      ]
    },
    {
      "cell_type": "code",
      "source": [
        "maxlen = 200\n",
        "X_t = pad_sequences(list_tokenized_train, maxlen=maxlen) # covert to fixed length\n",
        "X_te = pad_sequences(list_tokenized_test, maxlen=maxlen)\n",
        "print(np.shape(list_tokenized_train), np.shape(X_t))\n",
        "print(np.shape(list_tokenized_train), np.shape(X_te))"
      ],
      "metadata": {
        "colab": {
          "base_uri": "https://localhost:8080/"
        },
        "id": "6GvPuk8YUeQQ",
        "outputId": "7e80c4a5-22b5-4c89-f26c-a9a2d224a4fe"
      },
      "execution_count": 8,
      "outputs": [
        {
          "output_type": "stream",
          "name": "stdout",
          "text": [
            "(159571,) (159571, 200)\n",
            "(159571,) (153164, 200)\n"
          ]
        },
        {
          "output_type": "stream",
          "name": "stderr",
          "text": [
            "/usr/local/lib/python3.7/dist-packages/numpy/core/fromnumeric.py:1970: VisibleDeprecationWarning: Creating an ndarray from ragged nested sequences (which is a list-or-tuple of lists-or-tuples-or ndarrays with different lengths or shapes) is deprecated. If you meant to do this, you must specify 'dtype=object' when creating the ndarray.\n",
            "  result = asarray(a).shape\n"
          ]
        }
      ]
    },
    {
      "cell_type": "code",
      "source": [
        "totalNumWords = [len(one_comment) for one_comment in list_tokenized_train]\n",
        "\n",
        "plt.hist(totalNumWords,bins = np.arange(0,410,10))\n",
        "plt.show() # We can see most of the sentence length is < 50"
      ],
      "metadata": {
        "colab": {
          "base_uri": "https://localhost:8080/",
          "height": 265
        },
        "id": "qT4bXNACVYO8",
        "outputId": "c6a97c2c-d2de-4efc-dfbe-e316752f8e7b"
      },
      "execution_count": 19,
      "outputs": [
        {
          "output_type": "display_data",
          "data": {
            "text/plain": [
              "<Figure size 432x288 with 1 Axes>"
            ],
            "image/png": "[encoded data removed]"
          },
          "metadata": {
            "needs_background": "light"
          }
        }
      ]
    },
    {
      "cell_type": "code",
      "source": [
        "inp = Input(shape=(maxlen, )) \n",
        "\n",
        "embed_size = 128\n",
        "x = Embedding(max_features, embed_size)(inp)\n",
        "x = LSTM(60, return_sequences=True, name='lstm_layer')(x)\n",
        "x = GlobalMaxPool1D()(x)\n",
        "x = Dropout(0.1)(x)\n",
        "x = Dense(50, activation=\"relu\")(x)\n",
        "x = Dropout(0.1)(x)\n",
        "x = Dense(6, activation=\"sigmoid\")(x)\n",
        "\n",
        "model = Model(inputs=inp, outputs=x)\n",
        "model.compile(loss='binary_crossentropy',\n",
        "                  optimizer='adam',\n",
        "                  metrics=['accuracy'])\n",
        "\n",
        "batch_size = 32\n",
        "epochs = 2\n",
        "model.fit(X_t,y, batch_size=batch_size, epochs=epochs, validation_split=0.1)"
      ],
      "metadata": {
        "colab": {
          "base_uri": "https://localhost:8080/"
        },
        "id": "IcV08FmsWwKT",
        "outputId": "793c7217-89c7-48b4-fd54-17ad6983cee3"
      },
      "execution_count": 10,
      "outputs": [
        {
          "output_type": "stream",
          "name": "stdout",
          "text": [
            "Epoch 1/2\n",
            "4488/4488 [==============================] - 63s 12ms/step - loss: 0.0688 - accuracy: 0.9600 - val_loss: 0.0492 - val_accuracy: 0.9939\n",
            "Epoch 2/2\n",
            "4488/4488 [==============================] - 52s 12ms/step - loss: 0.0448 - accuracy: 0.9919 - val_loss: 0.0474 - val_accuracy: 0.9940\n"
          ]
        },
        {
          "output_type": "execute_result",
          "data": {
            "text/plain": [
              "<keras.callbacks.History at 0x7fbefe6da950>"
            ]
          },
          "metadata": {},
          "execution_count": 10
        }
      ]
    },
    {
      "cell_type": "code",
      "source": [
        "model.summary()"
      ],
      "metadata": {
        "colab": {
          "base_uri": "https://localhost:8080/"
        },
        "id": "7kh83mR5XZJQ",
        "outputId": "3c74075a-3840-45d4-933f-711798ef5250"
      },
      "execution_count": 11,
      "outputs": [
        {
          "output_type": "stream",
          "name": "stdout",
          "text": [
            "Model: \"model\"\n",
            "_________________________________________________________________\n",
            " Layer (type)                Output Shape              Param #   \n",
            "=================================================================\n",
            " input_1 (InputLayer)        [(None, 200)]             0         \n",
            "                                                                 \n",
            " embedding (Embedding)       (None, 200, 128)          2560000   \n",
            "                                                                 \n",
            " lstm_layer (LSTM)           (None, 200, 60)           45360     \n",
            "                                                                 \n",
            " global_max_pooling1d (Globa  (None, 60)               0         \n",
            " lMaxPooling1D)                                                  \n",
            "                                                                 \n",
            " dropout (Dropout)           (None, 60)                0         \n",
            "                                                                 \n",
            " dense (Dense)               (None, 50)                3050      \n",
            "                                                                 \n",
            " dropout_1 (Dropout)         (None, 50)                0         \n",
            "                                                                 \n",
            " dense_1 (Dense)             (None, 6)                 306       \n",
            "                                                                 \n",
            "=================================================================\n",
            "Total params: 2,608,716\n",
            "Trainable params: 2,608,716\n",
            "Non-trainable params: 0\n",
            "_________________________________________________________________\n"
          ]
        }
      ]
    },
    {
      "cell_type": "code",
      "source": [
        "from keras import backend as K\n",
        "\n",
        "# with a Sequential model\n",
        "get_3rd_layer_output = K.function([model.layers[0].input],\n",
        "                                  [model.layers[2].output])\n",
        "layer_output = get_3rd_layer_output([X_t[:1]])[0]\n",
        "layer_output.shape"
      ],
      "metadata": {
        "colab": {
          "base_uri": "https://localhost:8080/"
        },
        "id": "I4j3NTVnYeHk",
        "outputId": "93069a50-8c8c-4516-bf5d-a8d528b72f4d"
      },
      "execution_count": 12,
      "outputs": [
        {
          "output_type": "execute_result",
          "data": {
            "text/plain": [
              "(1, 200, 60)"
            ]
          },
          "metadata": {},
          "execution_count": 12
        }
      ]
    },
    {
      "cell_type": "code",
      "source": [
        "test_label = pd.read_csv('/content/drive/MyDrive/kaggle/toxic_comment_classification/dataset/test_labels.csv')\n",
        "Y_te = test_label[list_classes].values # scores\n",
        "display(Y_te)\n",
        "\n",
        "result = model.evaluate(X_te, Y_te)"
      ],
      "metadata": {
        "colab": {
          "base_uri": "https://localhost:8080/",
          "height": 156
        },
        "id": "Ml7HyEReaivG",
        "outputId": "9f6066b2-af3c-4ddb-e846-febb56f3b393"
      },
      "execution_count": 13,
      "outputs": [
        {
          "output_type": "display_data",
          "data": {
            "text/plain": [
              "array([[-1, -1, -1, -1, -1, -1],\n",
              "       [-1, -1, -1, -1, -1, -1],\n",
              "       [-1, -1, -1, -1, -1, -1],\n",
              "       ...,\n",
              "       [-1, -1, -1, -1, -1, -1],\n",
              "       [-1, -1, -1, -1, -1, -1],\n",
              "       [-1, -1, -1, -1, -1, -1]])"
            ]
          },
          "metadata": {}
        },
        {
          "output_type": "stream",
          "name": "stdout",
          "text": [
            "4787/4787 [==============================] - 25s 5ms/step - loss: -4.2037 - accuracy: 0.9990\n"
          ]
        }
      ]
    },
    {
      "cell_type": "code",
      "source": [
        "pred = model.predict(X_te)"
      ],
      "metadata": {
        "id": "GYz7_DGMd8jB"
      },
      "execution_count": 14,
      "outputs": []
    },
    {
      "cell_type": "code",
      "source": [
        "display(pred.shape)\n",
        "display(pred)"
      ],
      "metadata": {
        "colab": {
          "base_uri": "https://localhost:8080/",
          "height": 260
        },
        "id": "LyKW5yOmeD65",
        "outputId": "80e6ab7f-9ade-4a38-e5e9-b0b938937426"
      },
      "execution_count": 15,
      "outputs": [
        {
          "output_type": "display_data",
          "data": {
            "text/plain": [
              "(153164, 6)"
            ]
          },
          "metadata": {}
        },
        {
          "output_type": "display_data",
          "data": {
            "text/plain": [
              "array([[9.9777776e-01, 2.0181832e-01, 9.2693299e-01, 5.4084864e-02,\n",
              "        9.0168089e-01, 2.4075690e-01],\n",
              "       [4.0931202e-04, 1.5699297e-07, 1.0423549e-04, 1.5918855e-06,\n",
              "        6.0282775e-05, 1.1158696e-05],\n",
              "       [1.3274848e-03, 1.4305898e-06, 4.1515051e-04, 1.1935865e-05,\n",
              "        2.6183834e-04, 4.9083155e-05],\n",
              "       ...,\n",
              "       [2.1603570e-04, 1.6123201e-08, 4.7980458e-05, 1.7156830e-07,\n",
              "        1.9055196e-05, 2.9425814e-06],\n",
              "       [2.5479840e-03, 8.7152529e-07, 3.2384900e-04, 1.4605928e-05,\n",
              "        2.6324810e-04, 1.0575721e-04],\n",
              "       [9.6880484e-01, 1.0052047e-02, 7.6552010e-01, 1.2208173e-03,\n",
              "        4.9848807e-01, 9.3627954e-03]], dtype=float32)"
            ]
          },
          "metadata": {}
        }
      ]
    },
    {
      "cell_type": "code",
      "source": [
        "submission = pd.DataFrame(pred, columns=[list_classes])\n",
        "submission.insert(0, 'id', test[\"id\"])\n",
        "\n",
        "display(submission)\n",
        "submission.to_csv(\"/content/drive/MyDrive/kaggle/toxic_comment_classification/dataset/toxic_comment_classification_submission.csv\", index=False)"
      ],
      "metadata": {
        "colab": {
          "base_uri": "https://localhost:8080/",
          "height": 424
        },
        "id": "Bcw9GOEgiXpq",
        "outputId": "4dc04841-5ef7-437d-fdb0-1988bda79e63"
      },
      "execution_count": 16,
      "outputs": [
        {
          "output_type": "display_data",
          "data": {
            "text/plain": [
              "                      id     toxic  severe_toxic   obscene        threat  \\\n",
              "0       00001cee341fdb12  0.997778  2.018183e-01  0.926933  5.408486e-02   \n",
              "1       0000247867823ef7  0.000409  1.569930e-07  0.000104  1.591886e-06   \n",
              "2       00013b17ad220c46  0.001327  1.430590e-06  0.000415  1.193586e-05   \n",
              "3       00017563c3f7919a  0.000346  2.659626e-08  0.000074  3.114345e-07   \n",
              "4       00017695ad8997eb  0.003121  2.938717e-06  0.000639  2.939989e-05   \n",
              "...                  ...       ...           ...       ...           ...   \n",
              "153159  fffcd0960ee309b5  0.571124  3.763777e-04  0.142697  6.789235e-04   \n",
              "153160  fffd7a9a6eb32c16  0.005434  3.658608e-06  0.001213  2.962694e-05   \n",
              "153161  fffda9e8d6fafa9e  0.000216  1.612320e-08  0.000048  1.715683e-07   \n",
              "153162  fffe8f1340a79fc2  0.002548  8.715253e-07  0.000324  1.460593e-05   \n",
              "153163  ffffce3fb183ee80  0.968805  1.005205e-02  0.765520  1.220817e-03   \n",
              "\n",
              "          insult identity_hate  \n",
              "0       0.901681      0.240757  \n",
              "1       0.000060      0.000011  \n",
              "2       0.000262      0.000049  \n",
              "3       0.000034      0.000004  \n",
              "4       0.000558      0.000124  \n",
              "...          ...           ...  \n",
              "153159  0.096291      0.004605  \n",
              "153160  0.000782      0.000143  \n",
              "153161  0.000019      0.000003  \n",
              "153162  0.000263      0.000106  \n",
              "153163  0.498488      0.009363  \n",
              "\n",
              "[153164 rows x 7 columns]"
            ],
            "text/html": [
              "\n",
              "  <div id=\"df-49b47b4d-f8a2-472e-80cb-9afe2b9edc6e\">\n",
              "    <div class=\"colab-df-container\">\n",
              "      <div>\n",
              "<style scoped>\n",
              "    .dataframe tbody tr th:only-of-type {\n",
              "        vertical-align: middle;\n",
              "    }\n",
              "\n",
              "    .dataframe tbody tr th {\n",
              "        vertical-align: top;\n",
              "    }\n",
              "\n",
              "    .dataframe thead tr th {\n",
              "        text-align: left;\n",
              "    }\n",
              "</style>\n",
              "<table border=\"1\" class=\"dataframe\">\n",
              "  <thead>\n",
              "    <tr>\n",
              "      <th></th>\n",
              "      <th>id</th>\n",
              "      <th>toxic</th>\n",
              "      <th>severe_toxic</th>\n",
              "      <th>obscene</th>\n",
              "      <th>threat</th>\n",
              "      <th>insult</th>\n",
              "      <th>identity_hate</th>\n",
              "    </tr>\n",
              "  </thead>\n",
              "  <tbody>\n",
              "    <tr>\n",
              "      <th>0</th>\n",
              "      <td>00001cee341fdb12</td>\n",
              "      <td>0.997778</td>\n",
              "      <td>2.018183e-01</td>\n",
              "      <td>0.926933</td>\n",
              "      <td>5.408486e-02</td>\n",
              "      <td>0.901681</td>\n",
              "      <td>0.240757</td>\n",
              "    </tr>\n",
              "    <tr>\n",
              "      <th>1</th>\n",
              "      <td>0000247867823ef7</td>\n",
              "      <td>0.000409</td>\n",
              "      <td>1.569930e-07</td>\n",
              "      <td>0.000104</td>\n",
              "      <td>1.591886e-06</td>\n",
              "      <td>0.000060</td>\n",
              "      <td>0.000011</td>\n",
              "    </tr>\n",
              "    <tr>\n",
              "      <th>2</th>\n",
              "      <td>00013b17ad220c46</td>\n",
              "      <td>0.001327</td>\n",
              "      <td>1.430590e-06</td>\n",
              "      <td>0.000415</td>\n",
              "      <td>1.193586e-05</td>\n",
              "      <td>0.000262</td>\n",
              "      <td>0.000049</td>\n",
              "    </tr>\n",
              "    <tr>\n",
              "      <th>3</th>\n",
              "      <td>00017563c3f7919a</td>\n",
              "      <td>0.000346</td>\n",
              "      <td>2.659626e-08</td>\n",
              "      <td>0.000074</td>\n",
              "      <td>3.114345e-07</td>\n",
              "      <td>0.000034</td>\n",
              "      <td>0.000004</td>\n",
              "    </tr>\n",
              "    <tr>\n",
              "      <th>4</th>\n",
              "      <td>00017695ad8997eb</td>\n",
              "      <td>0.003121</td>\n",
              "      <td>2.938717e-06</td>\n",
              "      <td>0.000639</td>\n",
              "      <td>2.939989e-05</td>\n",
              "      <td>0.000558</td>\n",
              "      <td>0.000124</td>\n",
              "    </tr>\n",
              "    <tr>\n",
              "      <th>...</th>\n",
              "      <td>...</td>\n",
              "      <td>...</td>\n",
              "      <td>...</td>\n",
              "      <td>...</td>\n",
              "      <td>...</td>\n",
              "      <td>...</td>\n",
              "      <td>...</td>\n",
              "    </tr>\n",
              "    <tr>\n",
              "      <th>153159</th>\n",
              "      <td>fffcd0960ee309b5</td>\n",
              "      <td>0.571124</td>\n",
              "      <td>3.763777e-04</td>\n",
              "      <td>0.142697</td>\n",
              "      <td>6.789235e-04</td>\n",
              "      <td>0.096291</td>\n",
              "      <td>0.004605</td>\n",
              "    </tr>\n",
              "    <tr>\n",
              "      <th>153160</th>\n",
              "      <td>fffd7a9a6eb32c16</td>\n",
              "      <td>0.005434</td>\n",
              "      <td>3.658608e-06</td>\n",
              "      <td>0.001213</td>\n",
              "      <td>2.962694e-05</td>\n",
              "      <td>0.000782</td>\n",
              "      <td>0.000143</td>\n",
              "    </tr>\n",
              "    <tr>\n",
              "      <th>153161</th>\n",
              "      <td>fffda9e8d6fafa9e</td>\n",
              "      <td>0.000216</td>\n",
              "      <td>1.612320e-08</td>\n",
              "      <td>0.000048</td>\n",
              "      <td>1.715683e-07</td>\n",
              "      <td>0.000019</td>\n",
              "      <td>0.000003</td>\n",
              "    </tr>\n",
              "    <tr>\n",
              "      <th>153162</th>\n",
              "      <td>fffe8f1340a79fc2</td>\n",
              "      <td>0.002548</td>\n",
              "      <td>8.715253e-07</td>\n",
              "      <td>0.000324</td>\n",
              "      <td>1.460593e-05</td>\n",
              "      <td>0.000263</td>\n",
              "      <td>0.000106</td>\n",
              "    </tr>\n",
              "    <tr>\n",
              "      <th>153163</th>\n",
              "      <td>ffffce3fb183ee80</td>\n",
              "      <td>0.968805</td>\n",
              "      <td>1.005205e-02</td>\n",
              "      <td>0.765520</td>\n",
              "      <td>1.220817e-03</td>\n",
              "      <td>0.498488</td>\n",
              "      <td>0.009363</td>\n",
              "    </tr>\n",
              "  </tbody>\n",
              "</table>\n",
              "<p>153164 rows × 7 columns</p>\n",
              "</div>\n",
              "      <button class=\"colab-df-convert\" onclick=\"convertToInteractive('df-49b47b4d-f8a2-472e-80cb-9afe2b9edc6e')\"\n",
              "              title=\"Convert this dataframe to an interactive table.\"\n",
              "              style=\"display:none;\">\n",
              "        \n",
              "  <svg xmlns=\"http://www.w3.org/2000/svg\" height=\"24px\"viewBox=\"0 0 24 24\"\n",
              "       width=\"24px\">\n",
              "    <path d=\"M0 0h24v24H0V0z\" fill=\"none\"/>\n",
              "    <path d=\"M18.56 5.44l.94 2.06.94-2.06 2.06-.94-2.06-.94-.94-2.06-.94 2.06-2.06.94zm-11 1L8.5 8.5l.94-2.06 2.06-.94-2.06-.94L8.5 2.5l-.94 2.06-2.06.94zm10 10l.94 2.06.94-2.06 2.06-.94-2.06-.94-.94-2.06-.94 2.06-2.06.94z\"/><path d=\"M17.41 7.96l-1.37-1.37c-.4-.4-.92-.59-1.43-.59-.52 0-1.04.2-1.43.59L10.3 9.45l-7.72 7.72c-.78.78-.78 2.05 0 2.83L4 21.41c.39.39.9.59 1.41.59.51 0 1.02-.2 1.41-.59l7.78-7.78 2.81-2.81c.8-.78.8-2.07 0-2.86zM5.41 20L4 18.59l7.72-7.72 1.47 1.35L5.41 20z\"/>\n",
              "  </svg>\n",
              "      </button>\n",
              "      \n",
              "  <style>\n",
              "    .colab-df-container {\n",
              "      display:flex;\n",
              "      flex-wrap:wrap;\n",
              "      gap: 12px;\n",
              "    }\n",
              "\n",
              "    .colab-df-convert {\n",
              "      background-color: #E8F0FE;\n",
              "      border: none;\n",
              "      border-radius: 50%;\n",
              "      cursor: pointer;\n",
              "      display: none;\n",
              "      fill: #1967D2;\n",
              "      height: 32px;\n",
              "      padding: 0 0 0 0;\n",
              "      width: 32px;\n",
              "    }\n",
              "\n",
              "    .colab-df-convert:hover {\n",
              "      background-color: #E2EBFA;\n",
              "      box-shadow: 0px 1px 2px rgba(60, 64, 67, 0.3), 0px 1px 3px 1px rgba(60, 64, 67, 0.15);\n",
              "      fill: #174EA6;\n",
              "    }\n",
              "\n",
              "    [theme=dark] .colab-df-convert {\n",
              "      background-color: #3B4455;\n",
              "      fill: #D2E3FC;\n",
              "    }\n",
              "\n",
              "    [theme=dark] .colab-df-convert:hover {\n",
              "      background-color: #434B5C;\n",
              "      box-shadow: 0px 1px 3px 1px rgba(0, 0, 0, 0.15);\n",
              "      filter: drop-shadow(0px 1px 2px rgba(0, 0, 0, 0.3));\n",
              "      fill: #FFFFFF;\n",
              "    }\n",
              "  </style>\n",
              "\n",
              "      <script>\n",
              "        const buttonEl =\n",
              "          document.querySelector('#df-49b47b4d-f8a2-472e-80cb-9afe2b9edc6e button.colab-df-convert');\n",
              "        buttonEl.style.display =\n",
              "          google.colab.kernel.accessAllowed ? 'block' : 'none';\n",
              "\n",
              "        async function convertToInteractive(key) {\n",
              "          const element = document.querySelector('#df-49b47b4d-f8a2-472e-80cb-9afe2b9edc6e');\n",
              "          const dataTable =\n",
              "            await google.colab.kernel.invokeFunction('convertToInteractive',\n",
              "                                                     [key], {});\n",
              "          if (!dataTable) return;\n",
              "\n",
              "          const docLinkHtml = 'Like what you see? Visit the ' +\n",
              "            '<a target=\"_blank\" href=https://colab.research.google.com/notebooks/data_table.ipynb>data table notebook</a>'\n",
              "            + ' to learn more about interactive tables.';\n",
              "          element.innerHTML = '';\n",
              "          dataTable['output_type'] = 'display_data';\n",
              "          await google.colab.output.renderOutput(dataTable, element);\n",
              "          const docLink = document.createElement('div');\n",
              "          docLink.innerHTML = docLinkHtml;\n",
              "          element.appendChild(docLink);\n",
              "        }\n",
              "      </script>\n",
              "    </div>\n",
              "  </div>\n",
              "  "
            ]
          },
          "metadata": {}
        }
      ]
    },
    {
      "cell_type": "code",
      "source": [
        "!kaggle competitions submit -c jigsaw-toxic-comment-classification-challenge -f \"/content/drive/MyDrive/kaggle/toxic_comment_classification/dataset/toxic_comment_classification_submission.csv\" -m \"toxic comment classification submission\""
      ],
      "metadata": {
        "colab": {
          "base_uri": "https://localhost:8080/"
        },
        "id": "3zQh2F4Nk8kb",
        "outputId": "6e6a414c-1cba-4a52-a5bf-a3889625a751"
      },
      "execution_count": 17,
      "outputs": [
        {
          "output_type": "stream",
          "name": "stdout",
          "text": [
            "100% 13.8M/13.8M [00:07<00:00, 1.90MB/s]\n",
            "Successfully submitted to Toxic Comment Classification Challenge"
          ]
        }
      ]
    }
  ]
}